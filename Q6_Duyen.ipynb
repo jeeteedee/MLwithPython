{
  "nbformat": 4,
  "nbformat_minor": 0,
  "metadata": {
    "colab": {
      "name": "Q6_Duyen.ipynb",
      "provenance": []
    },
    "kernelspec": {
      "name": "python3",
      "display_name": "Python 3"
    },
    "accelerator": "GPU"
  },
  "cells": [
    {
      "cell_type": "code",
      "metadata": {
        "id": "AZenlpLAw4Jj",
        "colab_type": "code",
        "colab": {
          "base_uri": "https://localhost:8080/",
          "height": 128
        },
        "outputId": "0e4565d6-59b0-4136-8535-218a379c626b"
      },
      "source": [
        "from google.colab import drive\n",
        "drive.mount('/content/drive')"
      ],
      "execution_count": 2,
      "outputs": [
        {
          "output_type": "stream",
          "text": [
            "Go to this URL in a browser: https://accounts.google.com/o/oauth2/auth?client_id=947318989803-6bn6qk8qdgf4n4g3pfee6491hc0brc4i.apps.googleusercontent.com&redirect_uri=urn%3aietf%3awg%3aoauth%3a2.0%3aoob&response_type=code&scope=email%20https%3a%2f%2fwww.googleapis.com%2fauth%2fdocs.test%20https%3a%2f%2fwww.googleapis.com%2fauth%2fdrive%20https%3a%2f%2fwww.googleapis.com%2fauth%2fdrive.photos.readonly%20https%3a%2f%2fwww.googleapis.com%2fauth%2fpeopleapi.readonly\n",
            "\n",
            "Enter your authorization code:\n",
            "··········\n",
            "Mounted at /content/drive\n"
          ],
          "name": "stdout"
        }
      ]
    },
    {
      "cell_type": "code",
      "metadata": {
        "id": "6eqPZWYmxLWw",
        "colab_type": "code",
        "colab": {}
      },
      "source": [
        "path = \"/content/drive/My Drive/ML With python /Final/penbased-5an-nn.csv\""
      ],
      "execution_count": 0,
      "outputs": []
    },
    {
      "cell_type": "code",
      "metadata": {
        "id": "cNDtwVhXxlzj",
        "colab_type": "code",
        "colab": {}
      },
      "source": [
        "import pandas as pd\n",
        "data = pd.read_csv(path)"
      ],
      "execution_count": 0,
      "outputs": []
    },
    {
      "cell_type": "code",
      "metadata": {
        "id": "sJHbW86VxokJ",
        "colab_type": "code",
        "colab": {
          "base_uri": "https://localhost:8080/",
          "height": 35
        },
        "outputId": "5f00e661-bfbb-4ec6-b4d6-e332859a1e6c"
      },
      "source": [
        "data.shape"
      ],
      "execution_count": 6,
      "outputs": [
        {
          "output_type": "execute_result",
          "data": {
            "text/plain": [
              "(10991, 17)"
            ]
          },
          "metadata": {
            "tags": []
          },
          "execution_count": 6
        }
      ]
    },
    {
      "cell_type": "code",
      "metadata": {
        "id": "AkZhT8NMx1eW",
        "colab_type": "code",
        "colab": {
          "base_uri": "https://localhost:8080/",
          "height": 198
        },
        "outputId": "416c0130-ae17-4f97-e62b-c057ba8d93d8"
      },
      "source": [
        "data.head()"
      ],
      "execution_count": 7,
      "outputs": [
        {
          "output_type": "execute_result",
          "data": {
            "text/html": [
              "<div>\n",
              "<style scoped>\n",
              "    .dataframe tbody tr th:only-of-type {\n",
              "        vertical-align: middle;\n",
              "    }\n",
              "\n",
              "    .dataframe tbody tr th {\n",
              "        vertical-align: top;\n",
              "    }\n",
              "\n",
              "    .dataframe thead th {\n",
              "        text-align: right;\n",
              "    }\n",
              "</style>\n",
              "<table border=\"1\" class=\"dataframe\">\n",
              "  <thead>\n",
              "    <tr style=\"text-align: right;\">\n",
              "      <th></th>\n",
              "      <th>0</th>\n",
              "      <th>57</th>\n",
              "      <th>31</th>\n",
              "      <th>68</th>\n",
              "      <th>72</th>\n",
              "      <th>90</th>\n",
              "      <th>100</th>\n",
              "      <th>100.1</th>\n",
              "      <th>76</th>\n",
              "      <th>75</th>\n",
              "      <th>50</th>\n",
              "      <th>51</th>\n",
              "      <th>28</th>\n",
              "      <th>25</th>\n",
              "      <th>16</th>\n",
              "      <th>0</th>\n",
              "      <th>1</th>\n",
              "    </tr>\n",
              "  </thead>\n",
              "  <tbody>\n",
              "    <tr>\n",
              "      <th>0</th>\n",
              "      <td>99</td>\n",
              "      <td>80</td>\n",
              "      <td>63</td>\n",
              "      <td>100</td>\n",
              "      <td>25</td>\n",
              "      <td>76</td>\n",
              "      <td>79</td>\n",
              "      <td>68</td>\n",
              "      <td>100</td>\n",
              "      <td>62</td>\n",
              "      <td>97</td>\n",
              "      <td>23</td>\n",
              "      <td>54</td>\n",
              "      <td>0</td>\n",
              "      <td>0</td>\n",
              "      <td>16</td>\n",
              "      <td>9</td>\n",
              "    </tr>\n",
              "    <tr>\n",
              "      <th>1</th>\n",
              "      <td>0</td>\n",
              "      <td>73</td>\n",
              "      <td>19</td>\n",
              "      <td>99</td>\n",
              "      <td>72</td>\n",
              "      <td>100</td>\n",
              "      <td>70</td>\n",
              "      <td>73</td>\n",
              "      <td>32</td>\n",
              "      <td>48</td>\n",
              "      <td>5</td>\n",
              "      <td>18</td>\n",
              "      <td>46</td>\n",
              "      <td>0</td>\n",
              "      <td>100</td>\n",
              "      <td>72</td>\n",
              "      <td>2</td>\n",
              "    </tr>\n",
              "    <tr>\n",
              "      <th>2</th>\n",
              "      <td>12</td>\n",
              "      <td>77</td>\n",
              "      <td>20</td>\n",
              "      <td>62</td>\n",
              "      <td>78</td>\n",
              "      <td>40</td>\n",
              "      <td>50</td>\n",
              "      <td>0</td>\n",
              "      <td>1</td>\n",
              "      <td>17</td>\n",
              "      <td>0</td>\n",
              "      <td>64</td>\n",
              "      <td>23</td>\n",
              "      <td>98</td>\n",
              "      <td>100</td>\n",
              "      <td>100</td>\n",
              "      <td>5</td>\n",
              "    </tr>\n",
              "    <tr>\n",
              "      <th>3</th>\n",
              "      <td>0</td>\n",
              "      <td>98</td>\n",
              "      <td>36</td>\n",
              "      <td>42</td>\n",
              "      <td>80</td>\n",
              "      <td>85</td>\n",
              "      <td>68</td>\n",
              "      <td>42</td>\n",
              "      <td>56</td>\n",
              "      <td>0</td>\n",
              "      <td>25</td>\n",
              "      <td>23</td>\n",
              "      <td>50</td>\n",
              "      <td>37</td>\n",
              "      <td>100</td>\n",
              "      <td>32</td>\n",
              "      <td>7</td>\n",
              "    </tr>\n",
              "    <tr>\n",
              "      <th>4</th>\n",
              "      <td>29</td>\n",
              "      <td>91</td>\n",
              "      <td>6</td>\n",
              "      <td>57</td>\n",
              "      <td>66</td>\n",
              "      <td>39</td>\n",
              "      <td>30</td>\n",
              "      <td>0</td>\n",
              "      <td>81</td>\n",
              "      <td>19</td>\n",
              "      <td>3</td>\n",
              "      <td>72</td>\n",
              "      <td>39</td>\n",
              "      <td>97</td>\n",
              "      <td>100</td>\n",
              "      <td>100</td>\n",
              "      <td>5</td>\n",
              "    </tr>\n",
              "  </tbody>\n",
              "</table>\n",
              "</div>"
            ],
            "text/plain": [
              "    0   57   31   68   72   90   100  ...   50   51   28   25   16    0   1\n",
              "0  99   80   63  100   25   76    79  ...   97   23   54    0    0   16   9\n",
              "1   0   73   19   99   72  100    70  ...    5   18   46    0  100   72   2\n",
              "2  12   77   20   62   78   40    50  ...    0   64   23   98  100  100   5\n",
              "3   0   98   36   42   80   85    68  ...   25   23   50   37  100   32   7\n",
              "4  29   91    6   57   66   39    30  ...    3   72   39   97  100  100   5\n",
              "\n",
              "[5 rows x 17 columns]"
            ]
          },
          "metadata": {
            "tags": []
          },
          "execution_count": 7
        }
      ]
    },
    {
      "cell_type": "code",
      "metadata": {
        "id": "YkYRfHoIx2x4",
        "colab_type": "code",
        "colab": {
          "base_uri": "https://localhost:8080/",
          "height": 198
        },
        "outputId": "a0171814-ecca-483f-d2f2-2a062f1ebb7a"
      },
      "source": [
        "data.tail()"
      ],
      "execution_count": 8,
      "outputs": [
        {
          "output_type": "execute_result",
          "data": {
            "text/html": [
              "<div>\n",
              "<style scoped>\n",
              "    .dataframe tbody tr th:only-of-type {\n",
              "        vertical-align: middle;\n",
              "    }\n",
              "\n",
              "    .dataframe tbody tr th {\n",
              "        vertical-align: top;\n",
              "    }\n",
              "\n",
              "    .dataframe thead th {\n",
              "        text-align: right;\n",
              "    }\n",
              "</style>\n",
              "<table border=\"1\" class=\"dataframe\">\n",
              "  <thead>\n",
              "    <tr style=\"text-align: right;\">\n",
              "      <th></th>\n",
              "      <th>0</th>\n",
              "      <th>57</th>\n",
              "      <th>31</th>\n",
              "      <th>68</th>\n",
              "      <th>72</th>\n",
              "      <th>90</th>\n",
              "      <th>100</th>\n",
              "      <th>100.1</th>\n",
              "      <th>76</th>\n",
              "      <th>75</th>\n",
              "      <th>50</th>\n",
              "      <th>51</th>\n",
              "      <th>28</th>\n",
              "      <th>25</th>\n",
              "      <th>16</th>\n",
              "      <th>0</th>\n",
              "      <th>1</th>\n",
              "    </tr>\n",
              "  </thead>\n",
              "  <tbody>\n",
              "    <tr>\n",
              "      <th>10986</th>\n",
              "      <td>86</td>\n",
              "      <td>100</td>\n",
              "      <td>38</td>\n",
              "      <td>80</td>\n",
              "      <td>12</td>\n",
              "      <td>51</td>\n",
              "      <td>0</td>\n",
              "      <td>18</td>\n",
              "      <td>94</td>\n",
              "      <td>0</td>\n",
              "      <td>100</td>\n",
              "      <td>13</td>\n",
              "      <td>62</td>\n",
              "      <td>30</td>\n",
              "      <td>7</td>\n",
              "      <td>18</td>\n",
              "      <td>6</td>\n",
              "    </tr>\n",
              "    <tr>\n",
              "      <th>10987</th>\n",
              "      <td>0</td>\n",
              "      <td>92</td>\n",
              "      <td>48</td>\n",
              "      <td>100</td>\n",
              "      <td>76</td>\n",
              "      <td>74</td>\n",
              "      <td>70</td>\n",
              "      <td>41</td>\n",
              "      <td>57</td>\n",
              "      <td>9</td>\n",
              "      <td>38</td>\n",
              "      <td>0</td>\n",
              "      <td>46</td>\n",
              "      <td>80</td>\n",
              "      <td>100</td>\n",
              "      <td>20</td>\n",
              "      <td>7</td>\n",
              "    </tr>\n",
              "    <tr>\n",
              "      <th>10988</th>\n",
              "      <td>0</td>\n",
              "      <td>82</td>\n",
              "      <td>26</td>\n",
              "      <td>98</td>\n",
              "      <td>59</td>\n",
              "      <td>100</td>\n",
              "      <td>67</td>\n",
              "      <td>78</td>\n",
              "      <td>55</td>\n",
              "      <td>53</td>\n",
              "      <td>49</td>\n",
              "      <td>27</td>\n",
              "      <td>65</td>\n",
              "      <td>6</td>\n",
              "      <td>15</td>\n",
              "      <td>0</td>\n",
              "      <td>2</td>\n",
              "    </tr>\n",
              "    <tr>\n",
              "      <th>10989</th>\n",
              "      <td>5</td>\n",
              "      <td>90</td>\n",
              "      <td>55</td>\n",
              "      <td>100</td>\n",
              "      <td>78</td>\n",
              "      <td>84</td>\n",
              "      <td>90</td>\n",
              "      <td>65</td>\n",
              "      <td>71</td>\n",
              "      <td>51</td>\n",
              "      <td>100</td>\n",
              "      <td>23</td>\n",
              "      <td>52</td>\n",
              "      <td>5</td>\n",
              "      <td>0</td>\n",
              "      <td>0</td>\n",
              "      <td>3</td>\n",
              "    </tr>\n",
              "    <tr>\n",
              "      <th>10990</th>\n",
              "      <td>0</td>\n",
              "      <td>74</td>\n",
              "      <td>35</td>\n",
              "      <td>100</td>\n",
              "      <td>100</td>\n",
              "      <td>85</td>\n",
              "      <td>94</td>\n",
              "      <td>63</td>\n",
              "      <td>52</td>\n",
              "      <td>35</td>\n",
              "      <td>0</td>\n",
              "      <td>11</td>\n",
              "      <td>5</td>\n",
              "      <td>0</td>\n",
              "      <td>77</td>\n",
              "      <td>6</td>\n",
              "      <td>2</td>\n",
              "    </tr>\n",
              "  </tbody>\n",
              "</table>\n",
              "</div>"
            ],
            "text/plain": [
              "        0   57   31   68   72   90   100  ...   50   51   28   25   16   0   1\n",
              "10986  86  100   38   80   12   51     0  ...  100   13   62   30    7  18   6\n",
              "10987   0   92   48  100   76   74    70  ...   38    0   46   80  100  20   7\n",
              "10988   0   82   26   98   59  100    67  ...   49   27   65    6   15   0   2\n",
              "10989   5   90   55  100   78   84    90  ...  100   23   52    5    0   0   3\n",
              "10990   0   74   35  100  100   85    94  ...    0   11    5    0   77   6   2\n",
              "\n",
              "[5 rows x 17 columns]"
            ]
          },
          "metadata": {
            "tags": []
          },
          "execution_count": 8
        }
      ]
    },
    {
      "cell_type": "code",
      "metadata": {
        "id": "BdKYmolqx4YN",
        "colab_type": "code",
        "colab": {
          "base_uri": "https://localhost:8080/",
          "height": 417
        },
        "outputId": "a501d4cb-4a5f-49d5-e090-81cfde58969a"
      },
      "source": [
        "data.info()"
      ],
      "execution_count": 9,
      "outputs": [
        {
          "output_type": "stream",
          "text": [
            "<class 'pandas.core.frame.DataFrame'>\n",
            "RangeIndex: 10991 entries, 0 to 10990\n",
            "Data columns (total 17 columns):\n",
            "0         10991 non-null int64\n",
            " 57       10991 non-null int64\n",
            " 31       10991 non-null int64\n",
            " 68       10991 non-null int64\n",
            " 72       10991 non-null int64\n",
            " 90       10991 non-null int64\n",
            " 100      10991 non-null int64\n",
            " 100.1    10991 non-null int64\n",
            " 76       10991 non-null int64\n",
            " 75       10991 non-null int64\n",
            " 50       10991 non-null int64\n",
            " 51       10991 non-null int64\n",
            " 28       10991 non-null int64\n",
            " 25       10991 non-null int64\n",
            " 16       10991 non-null int64\n",
            " 0        10991 non-null int64\n",
            " 1        10991 non-null int64\n",
            "dtypes: int64(17)\n",
            "memory usage: 1.4 MB\n"
          ],
          "name": "stdout"
        }
      ]
    },
    {
      "cell_type": "code",
      "metadata": {
        "id": "rNFStdqtx531",
        "colab_type": "code",
        "colab": {
          "base_uri": "https://localhost:8080/",
          "height": 407
        },
        "outputId": "c1e5e530-2ed2-41c1-c573-7a28dfe75dec"
      },
      "source": [
        "feature = data.iloc[:,:-1]\n",
        "feature"
      ],
      "execution_count": 10,
      "outputs": [
        {
          "output_type": "execute_result",
          "data": {
            "text/html": [
              "<div>\n",
              "<style scoped>\n",
              "    .dataframe tbody tr th:only-of-type {\n",
              "        vertical-align: middle;\n",
              "    }\n",
              "\n",
              "    .dataframe tbody tr th {\n",
              "        vertical-align: top;\n",
              "    }\n",
              "\n",
              "    .dataframe thead th {\n",
              "        text-align: right;\n",
              "    }\n",
              "</style>\n",
              "<table border=\"1\" class=\"dataframe\">\n",
              "  <thead>\n",
              "    <tr style=\"text-align: right;\">\n",
              "      <th></th>\n",
              "      <th>0</th>\n",
              "      <th>57</th>\n",
              "      <th>31</th>\n",
              "      <th>68</th>\n",
              "      <th>72</th>\n",
              "      <th>90</th>\n",
              "      <th>100</th>\n",
              "      <th>100.1</th>\n",
              "      <th>76</th>\n",
              "      <th>75</th>\n",
              "      <th>50</th>\n",
              "      <th>51</th>\n",
              "      <th>28</th>\n",
              "      <th>25</th>\n",
              "      <th>16</th>\n",
              "      <th>0</th>\n",
              "    </tr>\n",
              "  </thead>\n",
              "  <tbody>\n",
              "    <tr>\n",
              "      <th>0</th>\n",
              "      <td>99</td>\n",
              "      <td>80</td>\n",
              "      <td>63</td>\n",
              "      <td>100</td>\n",
              "      <td>25</td>\n",
              "      <td>76</td>\n",
              "      <td>79</td>\n",
              "      <td>68</td>\n",
              "      <td>100</td>\n",
              "      <td>62</td>\n",
              "      <td>97</td>\n",
              "      <td>23</td>\n",
              "      <td>54</td>\n",
              "      <td>0</td>\n",
              "      <td>0</td>\n",
              "      <td>16</td>\n",
              "    </tr>\n",
              "    <tr>\n",
              "      <th>1</th>\n",
              "      <td>0</td>\n",
              "      <td>73</td>\n",
              "      <td>19</td>\n",
              "      <td>99</td>\n",
              "      <td>72</td>\n",
              "      <td>100</td>\n",
              "      <td>70</td>\n",
              "      <td>73</td>\n",
              "      <td>32</td>\n",
              "      <td>48</td>\n",
              "      <td>5</td>\n",
              "      <td>18</td>\n",
              "      <td>46</td>\n",
              "      <td>0</td>\n",
              "      <td>100</td>\n",
              "      <td>72</td>\n",
              "    </tr>\n",
              "    <tr>\n",
              "      <th>2</th>\n",
              "      <td>12</td>\n",
              "      <td>77</td>\n",
              "      <td>20</td>\n",
              "      <td>62</td>\n",
              "      <td>78</td>\n",
              "      <td>40</td>\n",
              "      <td>50</td>\n",
              "      <td>0</td>\n",
              "      <td>1</td>\n",
              "      <td>17</td>\n",
              "      <td>0</td>\n",
              "      <td>64</td>\n",
              "      <td>23</td>\n",
              "      <td>98</td>\n",
              "      <td>100</td>\n",
              "      <td>100</td>\n",
              "    </tr>\n",
              "    <tr>\n",
              "      <th>3</th>\n",
              "      <td>0</td>\n",
              "      <td>98</td>\n",
              "      <td>36</td>\n",
              "      <td>42</td>\n",
              "      <td>80</td>\n",
              "      <td>85</td>\n",
              "      <td>68</td>\n",
              "      <td>42</td>\n",
              "      <td>56</td>\n",
              "      <td>0</td>\n",
              "      <td>25</td>\n",
              "      <td>23</td>\n",
              "      <td>50</td>\n",
              "      <td>37</td>\n",
              "      <td>100</td>\n",
              "      <td>32</td>\n",
              "    </tr>\n",
              "    <tr>\n",
              "      <th>4</th>\n",
              "      <td>29</td>\n",
              "      <td>91</td>\n",
              "      <td>6</td>\n",
              "      <td>57</td>\n",
              "      <td>66</td>\n",
              "      <td>39</td>\n",
              "      <td>30</td>\n",
              "      <td>0</td>\n",
              "      <td>81</td>\n",
              "      <td>19</td>\n",
              "      <td>3</td>\n",
              "      <td>72</td>\n",
              "      <td>39</td>\n",
              "      <td>97</td>\n",
              "      <td>100</td>\n",
              "      <td>100</td>\n",
              "    </tr>\n",
              "    <tr>\n",
              "      <th>...</th>\n",
              "      <td>...</td>\n",
              "      <td>...</td>\n",
              "      <td>...</td>\n",
              "      <td>...</td>\n",
              "      <td>...</td>\n",
              "      <td>...</td>\n",
              "      <td>...</td>\n",
              "      <td>...</td>\n",
              "      <td>...</td>\n",
              "      <td>...</td>\n",
              "      <td>...</td>\n",
              "      <td>...</td>\n",
              "      <td>...</td>\n",
              "      <td>...</td>\n",
              "      <td>...</td>\n",
              "      <td>...</td>\n",
              "    </tr>\n",
              "    <tr>\n",
              "      <th>10986</th>\n",
              "      <td>86</td>\n",
              "      <td>100</td>\n",
              "      <td>38</td>\n",
              "      <td>80</td>\n",
              "      <td>12</td>\n",
              "      <td>51</td>\n",
              "      <td>0</td>\n",
              "      <td>18</td>\n",
              "      <td>94</td>\n",
              "      <td>0</td>\n",
              "      <td>100</td>\n",
              "      <td>13</td>\n",
              "      <td>62</td>\n",
              "      <td>30</td>\n",
              "      <td>7</td>\n",
              "      <td>18</td>\n",
              "    </tr>\n",
              "    <tr>\n",
              "      <th>10987</th>\n",
              "      <td>0</td>\n",
              "      <td>92</td>\n",
              "      <td>48</td>\n",
              "      <td>100</td>\n",
              "      <td>76</td>\n",
              "      <td>74</td>\n",
              "      <td>70</td>\n",
              "      <td>41</td>\n",
              "      <td>57</td>\n",
              "      <td>9</td>\n",
              "      <td>38</td>\n",
              "      <td>0</td>\n",
              "      <td>46</td>\n",
              "      <td>80</td>\n",
              "      <td>100</td>\n",
              "      <td>20</td>\n",
              "    </tr>\n",
              "    <tr>\n",
              "      <th>10988</th>\n",
              "      <td>0</td>\n",
              "      <td>82</td>\n",
              "      <td>26</td>\n",
              "      <td>98</td>\n",
              "      <td>59</td>\n",
              "      <td>100</td>\n",
              "      <td>67</td>\n",
              "      <td>78</td>\n",
              "      <td>55</td>\n",
              "      <td>53</td>\n",
              "      <td>49</td>\n",
              "      <td>27</td>\n",
              "      <td>65</td>\n",
              "      <td>6</td>\n",
              "      <td>15</td>\n",
              "      <td>0</td>\n",
              "    </tr>\n",
              "    <tr>\n",
              "      <th>10989</th>\n",
              "      <td>5</td>\n",
              "      <td>90</td>\n",
              "      <td>55</td>\n",
              "      <td>100</td>\n",
              "      <td>78</td>\n",
              "      <td>84</td>\n",
              "      <td>90</td>\n",
              "      <td>65</td>\n",
              "      <td>71</td>\n",
              "      <td>51</td>\n",
              "      <td>100</td>\n",
              "      <td>23</td>\n",
              "      <td>52</td>\n",
              "      <td>5</td>\n",
              "      <td>0</td>\n",
              "      <td>0</td>\n",
              "    </tr>\n",
              "    <tr>\n",
              "      <th>10990</th>\n",
              "      <td>0</td>\n",
              "      <td>74</td>\n",
              "      <td>35</td>\n",
              "      <td>100</td>\n",
              "      <td>100</td>\n",
              "      <td>85</td>\n",
              "      <td>94</td>\n",
              "      <td>63</td>\n",
              "      <td>52</td>\n",
              "      <td>35</td>\n",
              "      <td>0</td>\n",
              "      <td>11</td>\n",
              "      <td>5</td>\n",
              "      <td>0</td>\n",
              "      <td>77</td>\n",
              "      <td>6</td>\n",
              "    </tr>\n",
              "  </tbody>\n",
              "</table>\n",
              "<p>10991 rows × 16 columns</p>\n",
              "</div>"
            ],
            "text/plain": [
              "        0   57   31   68   72   90   100  ...   75   50   51   28   25   16    0\n",
              "0      99   80   63  100   25   76    79  ...   62   97   23   54    0    0   16\n",
              "1       0   73   19   99   72  100    70  ...   48    5   18   46    0  100   72\n",
              "2      12   77   20   62   78   40    50  ...   17    0   64   23   98  100  100\n",
              "3       0   98   36   42   80   85    68  ...    0   25   23   50   37  100   32\n",
              "4      29   91    6   57   66   39    30  ...   19    3   72   39   97  100  100\n",
              "...    ..  ...  ...  ...  ...  ...   ...  ...  ...  ...  ...  ...  ...  ...  ...\n",
              "10986  86  100   38   80   12   51     0  ...    0  100   13   62   30    7   18\n",
              "10987   0   92   48  100   76   74    70  ...    9   38    0   46   80  100   20\n",
              "10988   0   82   26   98   59  100    67  ...   53   49   27   65    6   15    0\n",
              "10989   5   90   55  100   78   84    90  ...   51  100   23   52    5    0    0\n",
              "10990   0   74   35  100  100   85    94  ...   35    0   11    5    0   77    6\n",
              "\n",
              "[10991 rows x 16 columns]"
            ]
          },
          "metadata": {
            "tags": []
          },
          "execution_count": 10
        }
      ]
    },
    {
      "cell_type": "code",
      "metadata": {
        "id": "Q7sIMCaKyFAy",
        "colab_type": "code",
        "colab": {
          "base_uri": "https://localhost:8080/",
          "height": 235
        },
        "outputId": "d018ea60-6923-423d-b2ed-604dac87d3e1"
      },
      "source": [
        "target = data.iloc[:,-1]\n",
        "target"
      ],
      "execution_count": 17,
      "outputs": [
        {
          "output_type": "execute_result",
          "data": {
            "text/plain": [
              "0        9\n",
              "1        2\n",
              "2        5\n",
              "3        7\n",
              "4        5\n",
              "        ..\n",
              "10986    6\n",
              "10987    7\n",
              "10988    2\n",
              "10989    3\n",
              "10990    2\n",
              "Name:  1, Length: 10991, dtype: int64"
            ]
          },
          "metadata": {
            "tags": []
          },
          "execution_count": 17
        }
      ]
    },
    {
      "cell_type": "code",
      "metadata": {
        "id": "WMi6W3EcyKji",
        "colab_type": "code",
        "colab": {}
      },
      "source": [
        "from sklearn.model_selection import train_test_split\n",
        "X_train,X_test,y_train,y_test=train_test_split(feature,target,test_size=0.3,random_state=14)"
      ],
      "execution_count": 0,
      "outputs": []
    },
    {
      "cell_type": "code",
      "metadata": {
        "id": "kvJiBjqrywsX",
        "colab_type": "code",
        "colab": {}
      },
      "source": [
        "from sklearn.ensemble import RandomForestClassifier"
      ],
      "execution_count": 0,
      "outputs": []
    },
    {
      "cell_type": "code",
      "metadata": {
        "id": "D3PvAl0Uy3Hp",
        "colab_type": "code",
        "colab": {}
      },
      "source": [
        "ran = RandomForestClassifier(n_estimators = 200, random_state=42)"
      ],
      "execution_count": 0,
      "outputs": []
    },
    {
      "cell_type": "code",
      "metadata": {
        "id": "xKZII81bzJQ7",
        "colab_type": "code",
        "colab": {}
      },
      "source": [
        "ran.fit(X_train,y_train)\n",
        "\n",
        "y_pred = ran.predict(X_test)"
      ],
      "execution_count": 0,
      "outputs": []
    },
    {
      "cell_type": "code",
      "metadata": {
        "id": "21ihqZ-DzMZn",
        "colab_type": "code",
        "colab": {
          "base_uri": "https://localhost:8080/",
          "height": 54
        },
        "outputId": "64a46cfa-cff3-4314-a319-bba4f10adf12"
      },
      "source": [
        "print(\"The Training prediction accuracy is:\",\n",
        "ran.score(X_train,y_train)*100,\"%\")\n",
        "print(\"The Testing prediction accuracy is:\",\n",
        "ran.score(X_test,y_test)*100,\"%\")"
      ],
      "execution_count": 23,
      "outputs": [
        {
          "output_type": "stream",
          "text": [
            "The Training prediction accuracy is: 100.0 %\n",
            "The Testing prediction accuracy is: 97.36203759854457 %\n"
          ],
          "name": "stdout"
        }
      ]
    },
    {
      "cell_type": "markdown",
      "metadata": {
        "id": "inFLhNJy1tHy",
        "colab_type": "text"
      },
      "source": [
        "==> Model hoạt động rất tốt."
      ]
    },
    {
      "cell_type": "code",
      "metadata": {
        "id": "Asn3S9NazObx",
        "colab_type": "code",
        "colab": {}
      },
      "source": [
        "from sklearn.decomposition import PCA\n",
        "from sklearn.preprocessing import StandardScaler"
      ],
      "execution_count": 0,
      "outputs": []
    },
    {
      "cell_type": "code",
      "metadata": {
        "id": "4U87qu2hzWuh",
        "colab_type": "code",
        "colab": {}
      },
      "source": [
        "X_train_scaled=StandardScaler().fit_transform(X_train)\n",
        "X_test_scaled=StandardScaler().fit_transform(X_test)"
      ],
      "execution_count": 0,
      "outputs": []
    },
    {
      "cell_type": "code",
      "metadata": {
        "id": "hR6seNuAzYRN",
        "colab_type": "code",
        "colab": {}
      },
      "source": [
        "X_train_scaled=pd.DataFrame(X_train_scaled)\n",
        "X_test_scaled=pd.DataFrame(X_test_scaled)"
      ],
      "execution_count": 0,
      "outputs": []
    },
    {
      "cell_type": "code",
      "metadata": {
        "id": "opjzMyrizaLM",
        "colab_type": "code",
        "colab": {
          "base_uri": "https://localhost:8080/",
          "height": 54
        },
        "outputId": "b60a1009-1fda-4592-85a0-e6d3f24716ff"
      },
      "source": [
        "pca=PCA(0.95)\n",
        "pca.fit(X_train_scaled)"
      ],
      "execution_count": 27,
      "outputs": [
        {
          "output_type": "execute_result",
          "data": {
            "text/plain": [
              "PCA(copy=True, iterated_power='auto', n_components=0.95, random_state=None,\n",
              "    svd_solver='auto', tol=0.0, whiten=False)"
            ]
          },
          "metadata": {
            "tags": []
          },
          "execution_count": 27
        }
      ]
    },
    {
      "cell_type": "code",
      "metadata": {
        "id": "AqQgRaztzt92",
        "colab_type": "code",
        "colab": {
          "base_uri": "https://localhost:8080/",
          "height": 35
        },
        "outputId": "ff9572de-af73-4ae0-95f7-f250438d88f7"
      },
      "source": [
        "pca.n_components_"
      ],
      "execution_count": 28,
      "outputs": [
        {
          "output_type": "execute_result",
          "data": {
            "text/plain": [
              "11"
            ]
          },
          "metadata": {
            "tags": []
          },
          "execution_count": 28
        }
      ]
    },
    {
      "cell_type": "code",
      "metadata": {
        "id": "69UYbh3yzxTP",
        "colab_type": "code",
        "colab": {}
      },
      "source": [
        "pca_train=pd.DataFrame(pca.fit_transform(X_train_scaled))\n",
        "pca_test=pd.DataFrame(pca.fit_transform(X_test_scaled))"
      ],
      "execution_count": 0,
      "outputs": []
    },
    {
      "cell_type": "code",
      "metadata": {
        "id": "2yksfccqz1fO",
        "colab_type": "code",
        "colab": {
          "base_uri": "https://localhost:8080/",
          "height": 145
        },
        "outputId": "426a6df3-3e9a-4616-92c0-0b0f935a41a4"
      },
      "source": [
        "clf = RandomForestClassifier(n_estimators = 200, random_state=42)\n",
        "clf.fit(pca_train, y_train)"
      ],
      "execution_count": 53,
      "outputs": [
        {
          "output_type": "execute_result",
          "data": {
            "text/plain": [
              "RandomForestClassifier(bootstrap=True, class_weight=None, criterion='gini',\n",
              "                       max_depth=None, max_features='auto', max_leaf_nodes=None,\n",
              "                       min_impurity_decrease=0.0, min_impurity_split=None,\n",
              "                       min_samples_leaf=1, min_samples_split=2,\n",
              "                       min_weight_fraction_leaf=0.0, n_estimators=200,\n",
              "                       n_jobs=None, oob_score=False, random_state=42, verbose=0,\n",
              "                       warm_start=False)"
            ]
          },
          "metadata": {
            "tags": []
          },
          "execution_count": 53
        }
      ]
    },
    {
      "cell_type": "code",
      "metadata": {
        "id": "7_jS9k3M0JF-",
        "colab_type": "code",
        "colab": {}
      },
      "source": [
        "y_pred = clf.predict(pca_test)"
      ],
      "execution_count": 0,
      "outputs": []
    },
    {
      "cell_type": "code",
      "metadata": {
        "id": "9L9VSMHV0hcL",
        "colab_type": "code",
        "colab": {
          "base_uri": "https://localhost:8080/",
          "height": 35
        },
        "outputId": "4dac8cb8-b289-405f-9590-b9bfad1f37e7"
      },
      "source": [
        "from sklearn.metrics import accuracy_score\n",
        "print(\"Accuracy is \", accuracy_score(y_test,y_pred)*100,\"%\")"
      ],
      "execution_count": 55,
      "outputs": [
        {
          "output_type": "stream",
          "text": [
            "Accuracy is  77.2892662219527 %\n"
          ],
          "name": "stdout"
        }
      ]
    },
    {
      "cell_type": "markdown",
      "metadata": {
        "id": "OBtvZEFr1XUs",
        "colab_type": "text"
      },
      "source": [
        "==> Acc giảm đi rất nhiều sau khi áp dụng PCA => ko nên dùng PCA cho trường hợp này"
      ]
    }
  ]
}